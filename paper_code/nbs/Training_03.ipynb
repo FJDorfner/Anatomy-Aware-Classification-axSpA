{
 "cells": [
  {
   "cell_type": "code",
   "execution_count": null,
   "id": "caa6dbe4-e883-4f3b-b144-994c1bd72bb9",
   "metadata": {},
   "outputs": [],
   "source": [
    "import sys\n",
    "\n",
    "sys.path.append(\"../scripts\")"
   ]
  },
  {
   "cell_type": "code",
   "execution_count": null,
   "id": "e0300123-f452-4da9-859d-5847ea13b85c",
   "metadata": {
    "tags": []
   },
   "outputs": [],
   "source": [
    "import os\n",
    "import Models_02 as models\n",
    "import Paths as paths\n",
    "import Preprocessing_01 as preprocessing\n",
    "import pytorch_lightning as pl\n",
    "import Utils_00 as utils\n",
    "from monai.utils import set_determinism\n",
    "from pytorch_lightning.callbacks import ModelCheckpoint, RichProgressBar\n",
    "from pytorch_lightning.loggers import CSVLogger"
   ]
  },
  {
   "cell_type": "markdown",
   "id": "b18b0fd9-2066-411a-b635-311b6620f97b",
   "metadata": {
    "tags": []
   },
   "source": [
    "## Model Training using Progressive Resizing"
   ]
  },
  {
   "cell_type": "code",
   "execution_count": null,
   "id": "635615b9-79c7-426e-b112-c713a8128014",
   "metadata": {
    "tags": []
   },
   "outputs": [],
   "source": [
    "model = models.ResNetTransferLearningDiscriminativeLR"
   ]
  },
  {
   "cell_type": "code",
   "execution_count": null,
   "id": "c6a366c8-fcf7-4822-be9c-b7ebc04d4ae3",
   "metadata": {
    "tags": []
   },
   "outputs": [],
   "source": [
    "log_dir = paths.log_dir\n",
    "print(f\"all logs are stored at: {log_dir}\")"
   ]
  },
  {
   "cell_type": "code",
   "execution_count": null,
   "id": "057b2b87-0669-452d-a457-09027a6a45a3",
   "metadata": {
    "tags": []
   },
   "outputs": [],
   "source": [
    "model_checkpoint = ModelCheckpoint(monitor=\"val_MCC\", mode=\"max\", every_n_epochs=1, save_top_k=2)\n",
    "set_determinism(seed=0)"
   ]
  },
  {
   "cell_type": "code",
   "execution_count": null,
   "id": "d9e60f15-08d0-4c40-b5d4-36d79df53b67",
   "metadata": {
    "tags": []
   },
   "outputs": [],
   "source": [
    "# train fc-layer on small image size\n",
    "trainer = pl.Trainer(\n",
    "    accelerator=\"gpu\",\n",
    "    devices=-1,\n",
    "    precision=16,\n",
    "    max_epochs=15,\n",
    "    log_every_n_steps=1,\n",
    "    callbacks=[RichProgressBar(), model_checkpoint],\n",
    "    num_sanity_val_steps=2,\n",
    "    logger=CSVLogger(save_dir=log_dir),\n",
    ")\n",
    "\n",
    "metrics_path = f\"{trainer.logger.log_dir}/metrics.csv\"\n",
    "checkpoint_folder = f\"{trainer.logger.log_dir}/checkpoints\"\n",
    "print(metrics_path)\n",
    "print(checkpoint_folder)\n",
    "\n",
    "model2 = model(\n",
    "    only_fc=True,\n",
    "    max_lr=2e-2,\n",
    "    wd=0.0001,\n",
    "    first_dropout=0.1,\n",
    "    lr_mult=0.9,\n",
    "    alpha=0.4,\n",
    ")\n",
    "\n",
    "\n",
    "trainer.fit(\n",
    "    model2,\n",
    "    train_dataloaders=preprocessing.train_loader_small,\n",
    "    val_dataloaders=preprocessing.val_loader_small,\n",
    ")"
   ]
  },
  {
   "cell_type": "code",
   "execution_count": null,
   "id": "75d3cdac-2112-419a-bc28-6cc99ae351f1",
   "metadata": {
    "tags": []
   },
   "outputs": [],
   "source": [
    "# print checkpoint location and visualize metrics for the completed section of training\n",
    "checkpoint = os.path.join(checkpoint_folder, os.listdir(checkpoint_folder)[0])\n",
    "print(checkpoint)\n",
    "utils.visualize_training_metrics(metrics_path)"
   ]
  },
  {
   "cell_type": "code",
   "execution_count": null,
   "id": "79d84653-54e4-484d-8b63-34e31edc580e",
   "metadata": {
    "tags": []
   },
   "outputs": [],
   "source": [
    "# train all layers on small image size\n",
    "model_checkpoint = ModelCheckpoint(monitor=\"val_MCC\", mode=\"max\", every_n_epochs=1, save_top_k=2)\n",
    "\n",
    "trainer = pl.Trainer(\n",
    "    accelerator=\"gpu\",\n",
    "    devices=-1,\n",
    "    precision=16,\n",
    "    max_epochs=10,\n",
    "    log_every_n_steps=1,\n",
    "    callbacks=[RichProgressBar(), model_checkpoint],\n",
    "    num_sanity_val_steps=2,\n",
    "    logger=CSVLogger(save_dir=log_dir),\n",
    ")\n",
    "\n",
    "\n",
    "metrics_path = f\"{trainer.logger.log_dir}/metrics.csv\"\n",
    "checkpoint_folder = f\"{trainer.logger.log_dir}/checkpoints\"\n",
    "print(metrics_path)\n",
    "print(checkpoint_folder)\n",
    "\n",
    "model2 = model.load_from_checkpoint(\n",
    "    checkpoint,\n",
    "    only_fc=False,\n",
    "    max_lr=1e-3,\n",
    "    wd=0.0001,\n",
    "    first_dropout=0.1,\n",
    "    lr_mult=0.9,\n",
    "    alpha=0.4,\n",
    ")\n",
    "\n",
    "trainer.fit(\n",
    "    model2,\n",
    "    train_dataloaders=preprocessing.train_loader_small,\n",
    "    val_dataloaders=preprocessing.val_loader_small,\n",
    ")"
   ]
  },
  {
   "cell_type": "code",
   "execution_count": null,
   "id": "efd97ed1-45df-476f-b005-00005f424368",
   "metadata": {
    "tags": []
   },
   "outputs": [],
   "source": [
    "checkpoint = os.path.join(checkpoint_folder, os.listdir(checkpoint_folder)[0])\n",
    "print(checkpoint)\n",
    "utils.visualize_training_metrics(metrics_path)"
   ]
  },
  {
   "cell_type": "code",
   "execution_count": null,
   "id": "72e234e5-5e00-47c0-9a53-b4ec6685f0ec",
   "metadata": {
    "tags": []
   },
   "outputs": [],
   "source": [
    "# train fc-layer on medium image size\n",
    "model_checkpoint = ModelCheckpoint(monitor=\"val_MCC\", mode=\"max\", every_n_epochs=1, save_top_k=2)\n",
    "\n",
    "trainer = pl.Trainer(\n",
    "    accelerator=\"gpu\",\n",
    "    devices=-1,\n",
    "    precision=16,\n",
    "    max_epochs=15,\n",
    "    log_every_n_steps=1,\n",
    "    callbacks=[RichProgressBar(), model_checkpoint],\n",
    "    num_sanity_val_steps=2,\n",
    "    logger=CSVLogger(save_dir=log_dir),\n",
    ")\n",
    "\n",
    "metrics_path = f\"{trainer.logger.log_dir}/metrics.csv\"\n",
    "checkpoint_folder = f\"{trainer.logger.log_dir}/checkpoints\"\n",
    "\n",
    "\n",
    "model2 = model.load_from_checkpoint(\n",
    "    checkpoint,\n",
    "    only_fc=True,\n",
    "    max_lr=1e-2,\n",
    "    wd=0.0001,\n",
    "    first_dropout=0.1,\n",
    "    lr_mult=0.9,\n",
    "    alpha=0.4,\n",
    ")\n",
    "trainer.fit(\n",
    "    model2,\n",
    "    train_dataloaders=preprocessing.train_loader_medium,\n",
    "    val_dataloaders=preprocessing.val_loader_medium,\n",
    ")"
   ]
  },
  {
   "cell_type": "code",
   "execution_count": null,
   "id": "f9da6229-b7a0-4e09-86ac-fe1b11e41d18",
   "metadata": {
    "tags": []
   },
   "outputs": [],
   "source": [
    "checkpoint = os.path.join(checkpoint_folder, os.listdir(checkpoint_folder)[0])\n",
    "print(checkpoint)\n",
    "utils.visualize_training_metrics(metrics_path)"
   ]
  },
  {
   "cell_type": "code",
   "execution_count": null,
   "id": "f74ec57f-9bd0-4312-b608-9cf6ca274744",
   "metadata": {
    "tags": []
   },
   "outputs": [],
   "source": [
    "# train all layers on medium image size\n",
    "model_checkpoint = ModelCheckpoint(monitor=\"val_MCC\", mode=\"max\", every_n_epochs=1, save_top_k=2)\n",
    "\n",
    "trainer = pl.Trainer(\n",
    "    accelerator=\"gpu\",\n",
    "    devices=-1,\n",
    "    precision=16,\n",
    "    max_epochs=10,\n",
    "    log_every_n_steps=1,\n",
    "    callbacks=[RichProgressBar(), model_checkpoint],\n",
    "    num_sanity_val_steps=2,\n",
    "    logger=CSVLogger(save_dir=log_dir),\n",
    ")\n",
    "\n",
    "metrics_path = f\"{trainer.logger.log_dir}/metrics.csv\"\n",
    "checkpoint_folder = f\"{trainer.logger.log_dir}/checkpoints\"\n",
    "\n",
    "model2 = model.load_from_checkpoint(\n",
    "    checkpoint,\n",
    "    only_fc=False,\n",
    "    max_lr=1e-3,\n",
    "    wd=0.0001,\n",
    "    first_dropout=0.1,\n",
    "    lr_mult=0.9,\n",
    "    alpha=0.4,\n",
    ")\n",
    "trainer.fit(\n",
    "    model2,\n",
    "    train_dataloaders=preprocessing.train_loader_medium,\n",
    "    val_dataloaders=preprocessing.val_loader_medium,\n",
    ")"
   ]
  },
  {
   "cell_type": "code",
   "execution_count": null,
   "id": "98c79b2f-e6d5-4681-a5de-bbb180493280",
   "metadata": {
    "tags": []
   },
   "outputs": [],
   "source": [
    "checkpoint = os.path.join(checkpoint_folder, os.listdir(checkpoint_folder)[0])\n",
    "print(checkpoint)\n",
    "utils.visualize_training_metrics(metrics_path)"
   ]
  },
  {
   "cell_type": "code",
   "execution_count": null,
   "id": "c5c71edb-ebcd-4c05-9401-20dbdc459849",
   "metadata": {
    "tags": []
   },
   "outputs": [],
   "source": [
    "# train fc-layer on large image size\n",
    "model_checkpoint = ModelCheckpoint(monitor=\"val_MCC\", mode=\"max\", every_n_epochs=1, save_top_k=2)\n",
    "\n",
    "trainer = pl.Trainer(\n",
    "    accelerator=\"gpu\",\n",
    "    devices=-1,\n",
    "    precision=16,\n",
    "    max_epochs=15,\n",
    "    log_every_n_steps=1,\n",
    "    callbacks=[RichProgressBar(), model_checkpoint],\n",
    "    num_sanity_val_steps=2,\n",
    "    logger=CSVLogger(save_dir=log_dir),\n",
    ")\n",
    "\n",
    "metrics_path = f\"{trainer.logger.log_dir}/metrics.csv\"\n",
    "checkpoint_folder = f\"{trainer.logger.log_dir}/checkpoints\"\n",
    "\n",
    "model2 = model.load_from_checkpoint(\n",
    "    checkpoint,\n",
    "    only_fc=True,\n",
    "    max_lr=1e-2,\n",
    "    wd=0.0001,\n",
    "    first_dropout=0.1,\n",
    "    lr_mult=0.9,\n",
    "    alpha=0.4,\n",
    ")\n",
    "trainer.fit(\n",
    "    model2,\n",
    "    train_dataloaders=preprocessing.train_loader_large,\n",
    "    val_dataloaders=preprocessing.val_loader_large,\n",
    ")"
   ]
  },
  {
   "cell_type": "code",
   "execution_count": null,
   "id": "562b0100-a225-4146-8ee9-aec23ad1fbb4",
   "metadata": {
    "tags": []
   },
   "outputs": [],
   "source": [
    "checkpoint = os.path.join(checkpoint_folder, os.listdir(checkpoint_folder)[0])\n",
    "print(checkpoint)\n",
    "utils.visualize_training_metrics(metrics_path)"
   ]
  },
  {
   "cell_type": "code",
   "execution_count": null,
   "id": "3a3ed331-2c7a-416b-a3c1-fcdba63b300c",
   "metadata": {
    "tags": []
   },
   "outputs": [],
   "source": [
    "# train all layers on large image size\n",
    "model_checkpoint = ModelCheckpoint(monitor=\"val_MCC\", mode=\"max\", every_n_epochs=1, save_top_k=2)\n",
    "\n",
    "trainer = pl.Trainer(\n",
    "    accelerator=\"gpu\",\n",
    "    devices=-1,\n",
    "    precision=16,\n",
    "    max_epochs=15,\n",
    "    log_every_n_steps=1,\n",
    "    callbacks=[RichProgressBar(), model_checkpoint],\n",
    "    num_sanity_val_steps=2,\n",
    "    logger=CSVLogger(save_dir=log_dir),\n",
    ")\n",
    "\n",
    "metrics_path = f\"{trainer.logger.log_dir}/metrics.csv\"\n",
    "checkpoint_folder = f\"{trainer.logger.log_dir}/checkpoints\"\n",
    "\n",
    "model2 = model.load_from_checkpoint(\n",
    "    checkpoint,\n",
    "    only_fc=False,\n",
    "    max_lr=1e-3,  # 5e-4\n",
    "    wd=0.0001,\n",
    "    first_dropout=0.1,\n",
    "    lr_mult=0.9,\n",
    "    alpha=0.4,\n",
    ")\n",
    "trainer.fit(\n",
    "    model2,\n",
    "    train_dataloaders=preprocessing.train_loader_large,\n",
    "    val_dataloaders=preprocessing.val_loader_large,\n",
    ")"
   ]
  },
  {
   "cell_type": "code",
   "execution_count": null,
   "id": "c9a21158-f736-45e6-a856-be1994b0a64b",
   "metadata": {
    "tags": []
   },
   "outputs": [],
   "source": [
    "checkpoint = os.path.join(checkpoint_folder, os.listdir(checkpoint_folder)[0])\n",
    "print(checkpoint)\n",
    "utils.visualize_training_metrics(metrics_path)"
   ]
  },
  {
   "cell_type": "code",
   "execution_count": null,
   "id": "828d605e-ee3b-4dad-8081-b63ef2570474",
   "metadata": {
    "tags": []
   },
   "outputs": [],
   "source": [
    "# train fc-layer on largest image size\n",
    "model_checkpoint = ModelCheckpoint(monitor=\"val_MCC\", mode=\"max\", every_n_epochs=1, save_top_k=2)\n",
    "\n",
    "trainer = pl.Trainer(\n",
    "    accelerator=\"gpu\",\n",
    "    devices=-1,\n",
    "    precision=16,\n",
    "    max_epochs=15,\n",
    "    log_every_n_steps=1,\n",
    "    callbacks=[RichProgressBar(), model_checkpoint],\n",
    "    num_sanity_val_steps=2,\n",
    "    logger=CSVLogger(save_dir=log_dir),\n",
    ")\n",
    "\n",
    "metrics_path = f\"{trainer.logger.log_dir}/metrics.csv\"\n",
    "checkpoint_folder = f\"{trainer.logger.log_dir}/checkpoints\"\n",
    "\n",
    "model2 = model.load_from_checkpoint(\n",
    "    checkpoint,\n",
    "    only_fc=True,\n",
    "    max_lr=1e-2,\n",
    "    wd=0.0001,\n",
    "    first_dropout=0.1,\n",
    "    lr_mult=0.9,\n",
    "    alpha=0.4,\n",
    ")\n",
    "trainer.fit(\n",
    "    model2,\n",
    "    train_dataloaders=preprocessing.train_loader_largest,\n",
    "    val_dataloaders=preprocessing.val_loader_largest,\n",
    ")"
   ]
  },
  {
   "cell_type": "code",
   "execution_count": null,
   "id": "ac178773-4bba-492b-a48d-fb27f103b0ea",
   "metadata": {
    "tags": []
   },
   "outputs": [],
   "source": [
    "checkpoint = os.path.join(checkpoint_folder, os.listdir(checkpoint_folder)[0])\n",
    "print(checkpoint)\n",
    "utils.visualize_training_metrics(metrics_path)"
   ]
  },
  {
   "cell_type": "code",
   "execution_count": null,
   "id": "d6add262-1274-4e73-ac4e-8b9a84f015af",
   "metadata": {
    "tags": []
   },
   "outputs": [],
   "source": [
    "# train all layers on largest image size\n",
    "model_checkpoint = ModelCheckpoint(monitor=\"val_MCC\", mode=\"max\", every_n_epochs=1, save_top_k=2)\n",
    "\n",
    "trainer = pl.Trainer(\n",
    "    accelerator=\"gpu\",\n",
    "    devices=-1,\n",
    "    precision=16,\n",
    "    max_epochs=25,\n",
    "    log_every_n_steps=1,\n",
    "    callbacks=[RichProgressBar(), model_checkpoint],\n",
    "    num_sanity_val_steps=2,\n",
    "    logger=CSVLogger(save_dir=log_dir),\n",
    ")\n",
    "metrics_path = f\"{trainer.logger.log_dir}/metrics.csv\"\n",
    "checkpoint_folder = f\"{trainer.logger.log_dir}/checkpoints\"\n",
    "print(checkpoint)\n",
    "\n",
    "model2 = model.load_from_checkpoint(\n",
    "    checkpoint,\n",
    "    only_fc=False,\n",
    "    max_lr=1e-3,\n",
    "    wd=0.0001,\n",
    "    first_dropout=0.1,\n",
    "    lr_mult=0.9,\n",
    "    alpha=0.4,\n",
    ")\n",
    "\n",
    "trainer.fit(\n",
    "    model2,\n",
    "    train_dataloaders=preprocessing.train_loader_largest,\n",
    "    val_dataloaders=preprocessing.val_loader_largest,\n",
    ")"
   ]
  },
  {
   "cell_type": "code",
   "execution_count": null,
   "id": "c98f1356-5ae3-42c7-a627-370ac893e8be",
   "metadata": {
    "tags": []
   },
   "outputs": [],
   "source": [
    "checkpoint = os.path.join(checkpoint_folder, os.listdir(checkpoint_folder)[0])\n",
    "print(checkpoint)\n",
    "utils.visualize_training_metrics(metrics_path)"
   ]
  }
 ],
 "metadata": {
  "kernelspec": {
   "display_name": "Python 3 (ipykernel)",
   "language": "python",
   "name": "python3"
  },
  "language_info": {
   "codemirror_mode": {
    "name": "ipython",
    "version": 3
   },
   "file_extension": ".py",
   "mimetype": "text/x-python",
   "name": "python",
   "nbconvert_exporter": "python",
   "pygments_lexer": "ipython3",
   "version": "3.8.13"
  }
 },
 "nbformat": 4,
 "nbformat_minor": 5
}
