{
 "cells": [
  {
   "cell_type": "code",
   "execution_count": null,
   "id": "d0a09b29",
   "metadata": {},
   "outputs": [],
   "source": [
    "import sys\n",
    "\n",
    "sys.path.append(\"../scripts\")"
   ]
  },
  {
   "cell_type": "code",
   "execution_count": null,
   "id": "8f94158c",
   "metadata": {
    "tags": []
   },
   "outputs": [],
   "source": [
    "import Models_02 as models\n",
    "import numpy as np\n",
    "import Paths as paths\n",
    "import Preprocessing_01 as preprocessing\n",
    "import pytorch_lightning as pl\n",
    "import torch\n",
    "\n",
    "from monai.data import DataLoader, Dataset\n",
    "from monai.utils import set_determinism\n",
    "from pytorch_lightning.callbacks import RichProgressBar"
   ]
  },
  {
   "cell_type": "code",
   "execution_count": null,
   "id": "037bbea3",
   "metadata": {
    "tags": []
   },
   "outputs": [],
   "source": [
    "excluded_images = paths.excluded_images_GESPIC"
   ]
  },
  {
   "cell_type": "code",
   "execution_count": null,
   "id": "a80f8d29",
   "metadata": {
    "tags": []
   },
   "outputs": [],
   "source": [
    "# define data to use\n",
    "predict_df = preprocessing.dataset_df[\n",
    "    preprocessing.dataset_df[\"image\"].str.contains(\"GESPIC\")\n",
    "]\n",
    "print(len(predict_df))\n",
    "predict_df = predict_df[~predict_df[\"image\"].str.contains(\"|\".join(excluded_images))]\n",
    "print(len(predict_df))\n",
    "predict_x = predict_df[\"image\"]\n",
    "predict_y = predict_df[\"classification\"]\n",
    "predict_data = [\n",
    "    {\"image\": image_name, \"label\": label_name}\n",
    "    for image_name, label_name in zip(predict_x, predict_y)\n",
    "]"
   ]
  },
  {
   "cell_type": "code",
   "execution_count": null,
   "id": "0c47a078",
   "metadata": {
    "tags": []
   },
   "outputs": [],
   "source": [
    "predict_ds = Dataset(data=predict_data, transform=preprocessing.val_transforms_416x628)\n",
    "predict_dataloader = DataLoader(predict_ds, num_workers=16, batch_size=8)"
   ]
  },
  {
   "cell_type": "code",
   "execution_count": null,
   "id": "2af3fea4",
   "metadata": {
    "tags": []
   },
   "outputs": [],
   "source": [
    "set_determinism(seed=0)\n",
    "model = models.ResNetTransferLearningDiscriminativeLR"
   ]
  },
  {
   "cell_type": "code",
   "execution_count": null,
   "id": "41c3e77c",
   "metadata": {
    "tags": []
   },
   "outputs": [],
   "source": [
    "trainer = pl.Trainer(\n",
    "    accelerator=\"gpu\",\n",
    "    devices=1,\n",
    "    max_epochs=15,\n",
    "    log_every_n_steps=1,\n",
    "    callbacks=[RichProgressBar()],\n",
    "    num_sanity_val_steps=2,\n",
    "    gradient_clip_val=0.5,\n",
    "    gradient_clip_algorithm=\"value\",\n",
    ")\n",
    "\n",
    "checkpoint = torch.load(\"../final_model.ckpt\")\n",
    "model2 = model(\n",
    "    only_fc=False,\n",
    "    max_lr=5e-4,\n",
    "    wd=0.0001,\n",
    "    first_dropout=0.0,\n",
    "    lr_mult=0.9,\n",
    "    alpha=0,\n",
    ")\n",
    "\n",
    "model2.load_state_dict(checkpoint[\"state_dict\"])\n"
   ]
  },
  {
   "cell_type": "code",
   "execution_count": null,
   "id": "6713ed33",
   "metadata": {},
   "outputs": [],
   "source": [
    "raw_preds = trainer.predict(\n",
    "    model2, dataloaders=predict_dataloader, return_predictions=True\n",
    ")"
   ]
  },
  {
   "cell_type": "code",
   "execution_count": null,
   "id": "273fbe52",
   "metadata": {
    "tags": []
   },
   "outputs": [],
   "source": [
    "raw_predictions0 = torch.Tensor(\n",
    "    np.vstack([raw_preds[i][\"preds\"].numpy() for i in range(len(raw_preds))])\n",
    ")\n",
    "targets0 = torch.Tensor(\n",
    "    np.vstack([raw_preds[i][\"targets\"].numpy() for i in range(len(raw_preds))])\n",
    ")\n",
    "preds = {\"preds\": raw_predictions0, \"targets\": targets0}"
   ]
  },
  {
   "cell_type": "code",
   "execution_count": null,
   "id": "64b767d0",
   "metadata": {
    "tags": []
   },
   "outputs": [],
   "source": [
    "# save predictions to load them analysis\n",
    "\n",
    "torch.save(preds, \"../eval/GESPIC_preds.pt\")"
   ]
  }
 ],
 "metadata": {
  "kernelspec": {
   "display_name": "Python 3 (ipykernel)",
   "language": "python",
   "name": "python3"
  },
  "language_info": {
   "codemirror_mode": {
    "name": "ipython",
    "version": 3
   },
   "file_extension": ".py",
   "mimetype": "text/x-python",
   "name": "python",
   "nbconvert_exporter": "python",
   "pygments_lexer": "ipython3",
   "version": "3.8.13"
  }
 },
 "nbformat": 4,
 "nbformat_minor": 5
}
