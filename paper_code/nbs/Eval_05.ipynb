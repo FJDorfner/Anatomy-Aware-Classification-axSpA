{
 "cells": [
  {
   "cell_type": "code",
   "execution_count": null,
   "id": "b932c013",
   "metadata": {},
   "outputs": [],
   "source": [
    "import sys\n",
    "sys.path.append(\"../scripts\")"
   ]
  },
  {
   "cell_type": "code",
   "execution_count": null,
   "id": "c9aef950",
   "metadata": {
    "tags": []
   },
   "outputs": [],
   "source": [
    "import numpy as np\n",
    "import torchmetrics\n",
    "import Utils_00 as utils\n",
    "import torch"
   ]
  },
  {
   "cell_type": "code",
   "execution_count": null,
   "id": "25c5f4f8",
   "metadata": {
    "tags": []
   },
   "outputs": [],
   "source": [
    "# load predictions from Inference Notebook\n",
    "preds = torch.load(\"../eval/GESPIC_preds.pt\")"
   ]
  },
  {
   "cell_type": "code",
   "execution_count": null,
   "id": "1331e994",
   "metadata": {
    "tags": []
   },
   "outputs": [],
   "source": [
    "# For Validation Dataset only: Determine optimal cut-off value\n",
    "thresholds = np.arange(0.0, 1.01, 0.01)\n",
    "predictions = preds[\"preds\"]\n",
    "\n",
    "acc_list = []\n",
    "for i in thresholds:\n",
    "    acc_list.append(\n",
    "        torchmetrics.functional.classification.multiclass_accuracy(\n",
    "            torch.where(preds[\"preds\"][:,1]>i,1,0), preds[\"targets\"][:,1].long(), num_classes=2, average='macro'\n",
    "        )\n",
    "    )\n",
    "cut_off = thresholds[np.argmax(acc_list)]\n",
    "print(f\"best accuracy is: {max(acc_list)}, at a cut-off value of {cut_off}\")\n",
    "specificity = torchmetrics.functional.classification.binary_specificity(\n",
    "    preds[\"preds\"][:,1], preds[\"targets\"][:,1].long(), threshold=cut_off\n",
    ")\n",
    "sensitivity = torchmetrics.functional.classification.binary_recall(\n",
    "    preds[\"preds\"][:,1], preds[\"targets\"][:,1].long(), threshold=cut_off\n",
    ")\n",
    "print(f\"->resulting specificity: {specificity}\")\n",
    "print(f\"->resulting sensitivity: {sensitivity}\")"
   ]
  },
  {
   "cell_type": "code",
   "execution_count": null,
   "id": "865ac2da",
   "metadata": {
    "tags": []
   },
   "outputs": [],
   "source": [
    "# For Test Datasets only: setting cut-off value, as determined on the validation dataset\n",
    "cut_off = 0.59"
   ]
  },
  {
   "cell_type": "markdown",
   "id": "8fe2d9be",
   "metadata": {
    "tags": []
   },
   "source": [
    "## Regular Inference"
   ]
  },
  {
   "cell_type": "code",
   "execution_count": null,
   "id": "2ff0b59c",
   "metadata": {
    "tags": []
   },
   "outputs": [],
   "source": [
    "utils.classification_report(preds[\"preds\"], preds[\"targets\"], threshhold=cut_off)"
   ]
  },
  {
   "cell_type": "code",
   "execution_count": null,
   "id": "28aacc4a",
   "metadata": {
    "tags": []
   },
   "outputs": [],
   "source": [
    "utils.metric_w_CI(preds, torchmetrics.classification.Accuracy(num_classes=2, task='multiclass', average=\"macro\"), threshold=cut_off, metric_name=\"Balanced Accuracy\")\n",
    "utils.metric_w_CI(preds, torchmetrics.classification.Accuracy(num_classes=2, task='multiclass'), threshold=cut_off, metric_name=\"Raw Accuracy\")\n",
    "\n",
    "utils.metric_w_CI(preds, torchmetrics.classification.BinaryRecall(), threshold=cut_off, metric_name=\"Sensitivity\")\n",
    "utils.metric_w_CI(\n",
    "    preds,\n",
    "    torchmetrics.classification.BinarySpecificity(),\n",
    "    threshold=cut_off,\n",
    "    metric_name=\"Specificty\",\n",
    ")\n",
    "utils.metric_w_CI(\n",
    "    preds, torchmetrics.classification.BinaryMatthewsCorrCoef(), threshold=cut_off, metric_name=\"MCC\"\n",
    ")\n",
    "utils.metric_w_CI(\n",
    "    preds, torchmetrics.classification.BinaryPrecision(), threshold=cut_off, metric_name=\"Precision\"\n",
    ")\n",
    "utils.metric_w_CI(\n",
    "    preds,\n",
    "    torchmetrics.classification.BinaryCohenKappa(),\n",
    "    threshold=cut_off,\n",
    "    metric_name=\"Cohen Kappa\",\n",
    ")\n",
    "utils.metric_w_CI(\n",
    "    preds,\n",
    "    torchmetrics.classification.BinaryAUROC(),\n",
    "    metric_name=\"AUROC\",\n",
    ")"
   ]
  },
  {
   "cell_type": "code",
   "execution_count": null,
   "id": "79962d52",
   "metadata": {
    "tags": []
   },
   "outputs": [],
   "source": [
    "utils.Sensitivity_vs_FPR_val(\n",
    "    preds[\"preds\"],\n",
    "    preds[\"targets\"],\n",
    "    threshhold=cut_off,\n",
    "    loc='lower left',\n",
    "    save_path=\"../Sensitivity_vs_FPR.svg\",\n",
    ")"
   ]
  },
  {
   "cell_type": "code",
   "execution_count": null,
   "id": "e70b1499",
   "metadata": {
    "tags": []
   },
   "outputs": [],
   "source": [
    "utils.class_probs_hist(\n",
    "    preds[\"preds\"],\n",
    "    preds[\"targets\"],\n",
    "    threshhold=cut_off,\n",
    "    save_path=\"../Confidence.svg\",\n",
    "    legend_pos=\"upper right\",\n",
    "    y_ticks=10\n",
    ")"
   ]
  },
  {
   "cell_type": "code",
   "execution_count": null,
   "id": "da877626",
   "metadata": {
    "tags": []
   },
   "outputs": [],
   "source": [
    "utils.roc_plot(\n",
    "    preds[\"preds\"],\n",
    "    preds[\"targets\"],\n",
    "    save_path=\"../ROC.svg\",\n",
    ")"
   ]
  },
  {
   "cell_type": "code",
   "execution_count": null,
   "id": "3f186a94",
   "metadata": {
    "tags": []
   },
   "outputs": [],
   "source": [
    "utils.confusion_matrix(\n",
    "    preds[\"preds\"],\n",
    "    preds[\"targets\"],\n",
    "    threshhold=cut_off,\n",
    "    save_path=\"../confusionmatrix.svg\",\n",
    ")"
   ]
  }
 ],
 "metadata": {
  "kernelspec": {
   "display_name": "Python 3 (ipykernel)",
   "language": "python",
   "name": "python3"
  },
  "language_info": {
   "codemirror_mode": {
    "name": "ipython",
    "version": 3
   },
   "file_extension": ".py",
   "mimetype": "text/x-python",
   "name": "python",
   "nbconvert_exporter": "python",
   "pygments_lexer": "ipython3",
   "version": "3.11.6"
  }
 },
 "nbformat": 4,
 "nbformat_minor": 5
}
