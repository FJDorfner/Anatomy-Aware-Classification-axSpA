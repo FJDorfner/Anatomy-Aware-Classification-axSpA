{
 "cells": [
  {
   "cell_type": "markdown",
   "id": "d3fe97f5-73f2-4994-8b3d-55854cb95ad3",
   "metadata": {},
   "source": [
    "## Preprocessing and Datahandling"
   ]
  },
  {
   "cell_type": "code",
   "execution_count": 1,
   "id": "468720e5-b490-4343-99e4-2282110134a6",
   "metadata": {
    "tags": []
   },
   "outputs": [],
   "source": [
    "import sys\n",
    "\n",
    "sys.path.append(\"../scripts\")"
   ]
  },
  {
   "cell_type": "code",
   "execution_count": 2,
   "id": "e85ee85f-d143-42cb-a6fd-9f541ba48900",
   "metadata": {
    "id": "HDLpIa6JfQLX",
    "outputId": "a5839ec7-af85-492e-f9f7-a63c678ee7ae",
    "tags": []
   },
   "outputs": [],
   "source": [
    "import os\n",
    "import pandas as pd\n",
    "import Utils_00 as utils\n",
    "import Paths as paths\n",
    "from monai.data import DataLoader, PersistentDataset\n",
    "from monai.transforms import (\n",
    "    Compose,\n",
    "    LoadImaged,\n",
    "    LoadImage,\n",
    "    SpatialPadd,\n",
    "    RandAffined,\n",
    "    RandFlipd,\n",
    "    RandRotated,\n",
    "    RandZoomd,\n",
    "    Resize,\n",
    "    Resized,\n",
    "    ResizeWithPadOrCrop,\n",
    "    ResizeWithPadOrCropd,\n",
    "    Rotate90d,\n",
    "    SqueezeDimd,\n",
    ")\n",
    "from monai.utils import set_determinism"
   ]
  },
  {
   "cell_type": "markdown",
   "id": "3e4cb12f-d427-4ca2-8ec0-3c88e7a7120c",
   "metadata": {
    "tags": []
   },
   "source": [
    "## Import dataset.csv"
   ]
  },
  {
   "cell_type": "code",
   "execution_count": null,
   "id": "3c1e614a-a198-4b2b-9e11-85ec2566a088",
   "metadata": {
    "tags": []
   },
   "outputs": [],
   "source": [
    "dataset_df_old_paths = pd.read_csv(paths.dataset_path, index_col=0)\n",
    "\n",
    "# change the dataset.csv to the correct paths\n",
    "base_path_image = paths.base_path_image\n",
    "base_path_label = paths.base_path_label\n",
    "\n",
    "dataset_df = dataset_df_old_paths.copy()\n",
    "\n",
    "for index, value in dataset_df.iterrows():\n",
    "    dataset_df.loc[index, \"image\"] = os.path.join(base_path_image, os.path.basename(value[\"image\"]))\n",
    "    dataset_df.loc[index, \"label\"] = os.path.join(base_path_label, os.path.basename(value[\"label\"]))\n",
    "dataset_df.head()"
   ]
  },
  {
   "cell_type": "markdown",
   "id": "02d62a86-7c3a-43a6-b4ce-550146911aed",
   "metadata": {
    "id": "3T9D8gdTfQLZ",
    "tags": []
   },
   "source": [
    "## Set deterministic training for reproducibility"
   ]
  },
  {
   "cell_type": "code",
   "execution_count": null,
   "id": "309fed80-7ce9-43af-9182-a1f5bb4139bc",
   "metadata": {
    "id": "By3o4uRofQLZ",
    "tags": []
   },
   "outputs": [],
   "source": [
    "set_determinism(seed=0)"
   ]
  },
  {
   "cell_type": "markdown",
   "id": "c8abb27b-01e6-4a28-8693-de56c757b391",
   "metadata": {
    "id": "ImjFgparfQLa",
    "tags": []
   },
   "source": [
    "## Prepare training, validation and test splits\n",
    "\n",
    "\n",
    "\n"
   ]
  },
  {
   "cell_type": "code",
   "execution_count": null,
   "id": "1416190a-820e-407b-83eb-2c8068d962b2",
   "metadata": {
    "tags": []
   },
   "outputs": [],
   "source": [
    "num_class = 2\n",
    "\n",
    "# exclude broken images\n",
    "excluded_images = paths.excluded_images\n",
    "\n",
    "# only PROOF data is used for training\n",
    "excluded_studies = [\"DAMACT\", \"OptiRef\", \"GESPIC\"]\n",
    "\n",
    "PROOF_df = dataset_df[~dataset_df[\"image\"].str.contains(\"|\".join(excluded_studies))]\n",
    "PROOF_df = PROOF_df[~PROOF_df[\"image\"].str.contains(\"|\".join(excluded_images))]\n",
    "\n",
    "\n",
    "# apply the training and validation split\n",
    "train_df = PROOF_df[PROOF_df[\"is_initial_valid_ds\"] == 0]\n",
    "val_df = PROOF_df[PROOF_df[\"is_initial_valid_ds\"] == 1]\n",
    "train_x = train_df[\"image\"]\n",
    "train_y = train_df[\"classification\"]\n",
    "val_x = val_df[\"image\"]\n",
    "val_y = val_df[\"classification\"]"
   ]
  },
  {
   "cell_type": "markdown",
   "id": "c6346294-2b83-41b9-b6b3-1b99b7bc4b84",
   "metadata": {},
   "source": [
    "## Define Transforms"
   ]
  },
  {
   "cell_type": "code",
   "execution_count": null,
   "id": "c93374fc-4455-4c3b-8743-4c05437c249e",
   "metadata": {
    "tags": []
   },
   "outputs": [],
   "source": [
    "train_transforms_106x158 = Compose(\n",
    "    [\n",
    "        LoadImaged(\n",
    "            ensure_channel_first=True,\n",
    "            image_only=True,\n",
    "            keys=\"image\",\n",
    "        ),\n",
    "        utils.CustomCLAHE(),\n",
    "        Rotate90d(keys=\"image\", spatial_axes=(0, 1), k=3),\n",
    "        SqueezeDimd(keys=\"image\", dim=3),\n",
    "        Resized(spatial_size=158, mode=\"bilinear\", keys=\"image\", size_mode=\"longest\"),\n",
    "        ResizeWithPadOrCropd(spatial_size=(106, 158), keys=\"image\"),\n",
    "        RandFlipd(keys=[\"image\"], spatial_axis=1, prob=0.5),\n",
    "        RandFlipd(keys=[\"image\"], spatial_axis=0, prob=0.5),\n",
    "        RandRotated(\n",
    "            keys=[\"image\"],\n",
    "            range_x=0.175,\n",
    "            prob=0.5,\n",
    "            keep_size=True,\n",
    "            padding_mode=\"zeros\",\n",
    "        ),\n",
    "        RandZoomd(\n",
    "            keys=[\"image\"],\n",
    "            min_zoom=0.9,\n",
    "            max_zoom=1.1,\n",
    "            prob=0.5,\n",
    "            padding_mode=\"constant\",\n",
    "        ),\n",
    "        RandAffined(keys=[\"image\"], prob=0.5, shear_range=(0.1, 0.1), padding_mode=\"zeros\"),\n",
    "        SpatialPadd(spatial_size=(106, 158), keys=\"image\"),\n",
    "    ]\n",
    ")\n",
    "\n",
    "val_transforms_106x158 = Compose(\n",
    "    [\n",
    "        LoadImaged(\n",
    "            ensure_channel_first=True,\n",
    "            image_only=True,\n",
    "            keys=\"image\",\n",
    "        ),\n",
    "        utils.CustomCLAHE(),\n",
    "        Rotate90d(keys=\"image\", spatial_axes=(0, 1), k=3),\n",
    "        SqueezeDimd(keys=\"image\", dim=3),\n",
    "        Resized(spatial_size=158, mode=\"bilinear\", keys=\"image\", size_mode=\"longest\"),\n",
    "        ResizeWithPadOrCropd(spatial_size=(106, 158), keys=\"image\"),\n",
    "    ]\n",
    ")"
   ]
  },
  {
   "cell_type": "code",
   "execution_count": null,
   "id": "5121f52e-4382-4474-a5b0-e93f15581da7",
   "metadata": {
    "tags": []
   },
   "outputs": [],
   "source": [
    "train_transforms_208x314 = Compose(\n",
    "    [\n",
    "        LoadImaged(\n",
    "            ensure_channel_first=True,\n",
    "            image_only=True,\n",
    "            keys=[\"image\"],\n",
    "        ),\n",
    "        utils.CustomCLAHE(),\n",
    "        Rotate90d(keys=[\"image\"], spatial_axes=(0, 1), k=3),\n",
    "        SqueezeDimd(keys=[\"image\"], dim=3),\n",
    "        Resized(spatial_size=314, mode=\"bilinear\", keys=\"image\", size_mode=\"longest\"),\n",
    "        ResizeWithPadOrCropd(spatial_size=(208, 314), keys=\"image\"),\n",
    "        RandFlipd(keys=[\"image\"], spatial_axis=1, prob=0.5),\n",
    "        RandFlipd(keys=[\"image\"], spatial_axis=0, prob=0.5),\n",
    "        RandRotated(\n",
    "            keys=[\"image\"],\n",
    "            range_x=0.175,\n",
    "            prob=0.5,\n",
    "            keep_size=True,\n",
    "            padding_mode=\"zeros\",\n",
    "        ),\n",
    "        RandZoomd(\n",
    "            keys=[\"image\"],\n",
    "            min_zoom=0.9,\n",
    "            max_zoom=1.1,\n",
    "            prob=0.5,\n",
    "            padding_mode=\"constant\",\n",
    "        ),\n",
    "        RandAffined(keys=[\"image\"], prob=0.5, shear_range=(0.1, 0.1), padding_mode=\"zeros\"),\n",
    "        SpatialPadd(spatial_size=(208, 314), keys=\"image\"),\n",
    "    ]\n",
    ")\n",
    "\n",
    "val_transforms_208x314 = Compose(\n",
    "    [\n",
    "        LoadImaged(\n",
    "            ensure_channel_first=True,\n",
    "            image_only=True,\n",
    "            keys=[\"image\"],\n",
    "        ),\n",
    "        utils.CustomCLAHE(),\n",
    "        Rotate90d(keys=[\"image\"], spatial_axes=(0, 1), k=3),\n",
    "        SqueezeDimd(keys=[\"image\"], dim=3),\n",
    "        Resized(spatial_size=314, mode=\"bilinear\", keys=\"image\", size_mode=\"longest\"),\n",
    "        ResizeWithPadOrCropd(spatial_size=(208, 314), keys=\"image\"),\n",
    "    ]\n",
    ")"
   ]
  },
  {
   "cell_type": "code",
   "execution_count": null,
   "id": "65abc90d-b129-4bf8-8aff-9df0adec27c3",
   "metadata": {
    "tags": []
   },
   "outputs": [],
   "source": [
    "train_transforms_312x472 = Compose(\n",
    "    [\n",
    "        LoadImaged(\n",
    "            ensure_channel_first=True,\n",
    "            image_only=True,\n",
    "            keys=[\"image\"],\n",
    "        ),\n",
    "        utils.CustomCLAHE(),\n",
    "        Rotate90d(keys=[\"image\"], spatial_axes=(0, 1), k=3),\n",
    "        SqueezeDimd(keys=[\"image\"], dim=3),\n",
    "        Resized(spatial_size=472, mode=\"area\", keys=\"image\", size_mode=\"longest\"),\n",
    "        ResizeWithPadOrCropd(spatial_size=(312, 472), keys=\"image\"),\n",
    "        RandFlipd(keys=[\"image\"], spatial_axis=1, prob=0.5),\n",
    "        RandFlipd(keys=[\"image\"], spatial_axis=0, prob=0.5),\n",
    "        RandRotated(\n",
    "            keys=[\"image\"],\n",
    "            range_x=0.175,  \n",
    "            prob=0.5,\n",
    "            keep_size=True,\n",
    "            padding_mode=\"zeros\",\n",
    "        ),\n",
    "        RandZoomd(\n",
    "            keys=[\"image\"],\n",
    "            min_zoom=0.9,\n",
    "            max_zoom=1.1,\n",
    "            prob=0.5,\n",
    "            padding_mode=\"constant\",\n",
    "        ),\n",
    "        RandAffined(keys=[\"image\"], prob=0.5, shear_range=(0.1, 0.1), padding_mode=\"zeros\"),\n",
    "        SpatialPadd(spatial_size=(312, 472), keys=\"image\"),\n",
    "    ]\n",
    ")\n",
    "\n",
    "val_transforms_312x472 = Compose(\n",
    "    [\n",
    "        LoadImaged(\n",
    "            ensure_channel_first=True,\n",
    "            image_only=True,\n",
    "            keys=[\"image\"],\n",
    "        ),\n",
    "        utils.CustomCLAHE(),\n",
    "        Rotate90d(keys=[\"image\"], spatial_axes=(0, 1), k=3),\n",
    "        SqueezeDimd(keys=[\"image\"], dim=3),\n",
    "        Resized(spatial_size=472, mode=\"bilinear\", keys=\"image\", size_mode=\"longest\"),\n",
    "        ResizeWithPadOrCropd(spatial_size=(312, 472), keys=\"image\"),\n",
    "    ]\n",
    ")"
   ]
  },
  {
   "cell_type": "code",
   "execution_count": null,
   "id": "442c03d6-c75f-4e1b-a645-885689320e77",
   "metadata": {
    "tags": []
   },
   "outputs": [],
   "source": [
    "train_transforms_416x628 = Compose(\n",
    "    [\n",
    "        LoadImaged(\n",
    "            ensure_channel_first=True,\n",
    "            image_only=True,\n",
    "            keys=[\"image\"],\n",
    "        ),\n",
    "        utils.CustomCLAHE(),\n",
    "        Rotate90d(keys=[\"image\"], spatial_axes=(0, 1), k=3),\n",
    "        SqueezeDimd(keys=[\"image\"], dim=3),\n",
    "        Resized(spatial_size=628, mode=\"bilinear\", keys=\"image\", size_mode=\"longest\"),\n",
    "        ResizeWithPadOrCropd(spatial_size=(416, 628), keys=\"image\"),\n",
    "        RandFlipd(keys=[\"image\"], spatial_axis=1, prob=0.5),\n",
    "        RandFlipd(keys=[\"image\"], spatial_axis=0, prob=0.5),\n",
    "        RandRotated(\n",
    "            keys=[\"image\"],\n",
    "            range_x=0.175,  # 175\n",
    "            prob=0.5,\n",
    "            keep_size=True,\n",
    "            padding_mode=\"zeros\",\n",
    "        ),\n",
    "        RandZoomd(\n",
    "            keys=[\"image\"],\n",
    "            min_zoom=0.9,\n",
    "            max_zoom=1.1,\n",
    "            prob=0.5,\n",
    "            padding_mode=\"constant\",\n",
    "        ),\n",
    "        RandAffined(keys=[\"image\"], prob=0.5, shear_range=(0.1, 0.1), padding_mode=\"zeros\"),\n",
    "        SpatialPadd(spatial_size=(416, 628), keys=\"image\"),\n",
    "    ]\n",
    ")\n",
    "\n",
    "val_transforms_416x628 = Compose(\n",
    "    [\n",
    "        LoadImaged(\n",
    "            ensure_channel_first=True,\n",
    "            image_only=True,\n",
    "            keys=[\"image\"],\n",
    "        ),\n",
    "        utils.CustomCLAHE(),\n",
    "        Rotate90d(keys=[\"image\"], spatial_axes=(0, 1), k=3),\n",
    "        SqueezeDimd(keys=[\"image\"], dim=3),\n",
    "        Resized(spatial_size=628, mode=\"bilinear\", keys=\"image\", size_mode=\"longest\"),\n",
    "        ResizeWithPadOrCropd(spatial_size=(416, 628), keys=\"image\"),\n",
    "    ],\n",
    ")"
   ]
  },
  {
   "cell_type": "code",
   "execution_count": null,
   "id": "6363d82b-b3ec-4fa9-8ccf-2c906f1f3f3f",
   "metadata": {
    "tags": []
   },
   "outputs": [],
   "source": [
    "gradcam_transform = Compose(\n",
    "    [\n",
    "        LoadImage(\n",
    "            ensure_channel_first=False,\n",
    "            image_only=True,\n",
    "            reader=\"NibabelReader\",\n",
    "            reverse_indexing=True,\n",
    "        ),\n",
    "        utils.CustomCLAHE(),\n",
    "        Resize(spatial_size=628, mode=\"bilinear\", size_mode=\"longest\"),\n",
    "        ResizeWithPadOrCrop(spatial_size=(416, 628)),\n",
    "    ],\n",
    ")"
   ]
  },
  {
   "cell_type": "markdown",
   "id": "266940c9-84af-42b1-bd07-f24874819862",
   "metadata": {
    "id": "Z39w5AZgfQLa",
    "tags": []
   },
   "source": [
    "## Define Cache, Dataset and Dataloaders"
   ]
  },
  {
   "cell_type": "code",
   "execution_count": null,
   "id": "ba10f504-2dba-499c-9738-7f82adb7ac70",
   "metadata": {
    "tags": []
   },
   "outputs": [],
   "source": [
    "scratch_path = paths.scratch_path"
   ]
  },
  {
   "cell_type": "code",
   "execution_count": null,
   "id": "ce414cb5-aa16-414a-8ccb-78824ab19002",
   "metadata": {
    "tags": []
   },
   "outputs": [],
   "source": [
    "cache_small = os.path.join(scratch_path, \"cache_small_masks\")\n",
    "if not os.path.exists(cache_small):\n",
    "    os.makedirs(cache_small)\n",
    "\n",
    "cache_medium = os.path.join(scratch_path, \"cache_medium_masks\")\n",
    "if not os.path.exists(cache_medium):\n",
    "    os.makedirs(cache_medium)\n",
    "\n",
    "cache_large = os.path.join(scratch_path, \"cache_large_masks\")\n",
    "if not os.path.exists(cache_large):\n",
    "    os.makedirs(cache_large)\n",
    "\n",
    "cache_largest = os.path.join(scratch_path, \"cache_largest_masks\")\n",
    "if not os.path.exists(cache_largest):\n",
    "    os.makedirs(cache_largest)"
   ]
  },
  {
   "cell_type": "code",
   "execution_count": null,
   "id": "31220fc6-5884-44d3-84d4-ce72cc0184c6",
   "metadata": {
    "tags": []
   },
   "outputs": [],
   "source": [
    "train_data = [\n",
    "    {\"image\": image_name, \"label\": label_name} for image_name, label_name in zip(train_x, train_y)\n",
    "]\n",
    "val_data = [\n",
    "    {\"image\": image_name, \"label\": label_name} for image_name, label_name in zip(val_x, val_y)\n",
    "]"
   ]
  },
  {
   "cell_type": "code",
   "execution_count": null,
   "id": "24b51f11-e42b-484e-a8fe-fc48b73d0406",
   "metadata": {},
   "outputs": [],
   "source": [
    "# Dataset and Dataloader for resoltion 106x158\n",
    "train_ds_small = PersistentDataset(\n",
    "    data=train_data, transform=train_transforms_106x158, cache_dir=cache_small\n",
    ")\n",
    "train_loader_small = DataLoader(\n",
    "    train_ds_small,\n",
    "    batch_size=64,\n",
    "    shuffle=True,\n",
    "    num_workers=48,\n",
    "    pin_memory=True,\n",
    ")\n",
    "\n",
    "val_ds_small = PersistentDataset(\n",
    "    data=val_data, transform=val_transforms_106x158, cache_dir=cache_small\n",
    ")\n",
    "val_loader_small = DataLoader(val_ds_small, batch_size=64, num_workers=48, pin_memory=True)\n",
    "\n",
    "# Dataset and Dataloader for resoltion 208x314\n",
    "train_ds_medium = PersistentDataset(\n",
    "    data=train_data, transform=train_transforms_208x314, cache_dir=cache_medium\n",
    ")\n",
    "train_loader_medium = DataLoader(\n",
    "    train_ds_medium,\n",
    "    batch_size=64,\n",
    "    shuffle=True,\n",
    "    num_workers=48,\n",
    "    pin_memory=True,\n",
    ")\n",
    "\n",
    "val_ds_medium = PersistentDataset(\n",
    "    data=val_data, transform=val_transforms_208x314, cache_dir=cache_medium\n",
    ")\n",
    "val_loader_medium = DataLoader(val_ds_medium, batch_size=64, num_workers=48, pin_memory=True)\n",
    "\n",
    "# Dataset and Dataloader for resoltion 312x472\n",
    "train_ds_large = PersistentDataset(\n",
    "    data=train_data, transform=train_transforms_312x472, cache_dir=cache_large\n",
    ")\n",
    "train_loader_large = DataLoader(\n",
    "    train_ds_large,\n",
    "    batch_size=64,\n",
    "    shuffle=True,\n",
    "    num_workers=48,\n",
    "    pin_memory=True,\n",
    ")\n",
    "\n",
    "val_ds_large = PersistentDataset(\n",
    "    data=val_data, transform=val_transforms_312x472, cache_dir=cache_large\n",
    ")\n",
    "val_loader_large = DataLoader(val_ds_large, batch_size=64, num_workers=48, pin_memory=True)\n",
    "\n",
    "# Dataset and Dataloader for resoltion 416x628\n",
    "train_ds_largest = PersistentDataset(\n",
    "    data=train_data, transform=train_transforms_416x628, cache_dir=cache_largest\n",
    ")\n",
    "train_loader_largest = DataLoader(\n",
    "    train_ds_largest,\n",
    "    batch_size=32,\n",
    "    shuffle=True,\n",
    "    num_workers=48,\n",
    "    pin_memory=True,\n",
    ")\n",
    "\n",
    "val_ds_largest = PersistentDataset(\n",
    "    data=val_data, transform=val_transforms_416x628, cache_dir=cache_largest\n",
    ")\n",
    "val_loader_largest = DataLoader(val_ds_largest, batch_size=32, num_workers=48, pin_memory=True)"
   ]
  }
 ],
 "metadata": {
  "kernelspec": {
   "display_name": "Python 3 (ipykernel)",
   "language": "python",
   "name": "python3"
  },
  "language_info": {
   "codemirror_mode": {
    "name": "ipython",
    "version": 3
   },
   "file_extension": ".py",
   "mimetype": "text/x-python",
   "name": "python",
   "nbconvert_exporter": "python",
   "pygments_lexer": "ipython3",
   "version": "3.8.13"
  }
 },
 "nbformat": 4,
 "nbformat_minor": 5
}
