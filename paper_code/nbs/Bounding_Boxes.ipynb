{
 "cells": [
  {
   "cell_type": "markdown",
   "id": "5d4fcbeb-055a-4b3c-b6b3-7d9da5474b0d",
   "metadata": {},
   "source": [
    "## Create Masks from Bounding Boxes"
   ]
  },
  {
   "cell_type": "code",
   "execution_count": null,
   "id": "7463efd8-d836-4a49-9b01-62673cd5676e",
   "metadata": {
    "tags": []
   },
   "outputs": [],
   "source": [
    "import os\n",
    "\n",
    "import matplotlib.pyplot as plt\n",
    "import numpy as np\n",
    "import pandas as pd\n",
    "import SimpleITK as sitk\n",
    "from tqdm import tqdm"
   ]
  },
  {
   "cell_type": "code",
   "execution_count": null,
   "id": "68dcf70b-c0e2-4d1f-92e0-d117dfbc3308",
   "metadata": {
    "tags": []
   },
   "outputs": [],
   "source": [
    "def show_image(image, cmap=\"gray\", ax=None):\n",
    "    image_arr = sitk.GetArrayFromImage(image)\n",
    "    image_arr = np.squeeze(image_arr)\n",
    "    if ax is None:\n",
    "        plt.imshow(image_arr, cmap=cmap)\n",
    "    else:\n",
    "        ax.imshow(image_arr, cmap=cmap)"
   ]
  },
  {
   "cell_type": "code",
   "execution_count": null,
   "id": "00531af2-908f-4feb-bff6-316d9c69bf27",
   "metadata": {
    "tags": []
   },
   "outputs": [],
   "source": [
    "def remove_suffix(input_string, suffix):\n",
    "    if suffix and input_string.endswith(suffix):\n",
    "        return input_string[: -len(suffix)]\n",
    "    return input_string"
   ]
  },
  {
   "cell_type": "code",
   "execution_count": null,
   "id": "c4b24bd5-3f77-4a53-9fb8-edb7d0340e5e",
   "metadata": {
    "tags": []
   },
   "outputs": [],
   "source": [
    "def bounding_box_mask(image, label):\n",
    "    \"\"\"Generates a bounding box mask around a labeled region in an image\n",
    "\n",
    "    Args:\n",
    "        image (SimpleITK.Image): The input image.\n",
    "        label (SimpleITK.Image): The labeled image containing the region of interest.\n",
    "\n",
    "    Returns:\n",
    "        SimpleITK.Image: An image containing the with the bounding box mask applied with the\n",
    "        same spacing as the original image.\n",
    "\n",
    "    Note:\n",
    "        This function assumes that the input image and label are SimpleITK.Image objects.\n",
    "        The returned bounding box mask is a binary image where pixels inside the bounding box\n",
    "        are set to 1 and others are set to 0.\n",
    "    \"\"\"\n",
    "    # get original spacing\n",
    "    original_spacing = label.GetSpacing()\n",
    "\n",
    "    # convert image and label to arrays\n",
    "    image_array = sitk.GetArrayFromImage(image)\n",
    "    image_array = np.squeeze(image_array)\n",
    "    label_array = sitk.GetArrayFromImage(label)\n",
    "    label_array = np.squeeze(label_array)\n",
    "\n",
    "    # determine corners of the bounding box\n",
    "    first_nonzero_row_index = np.nonzero(np.any(label_array != 0, axis=1))[0][0]\n",
    "    last_nonzero_row_index = np.max(np.nonzero(np.any(label_array != 0, axis=1)))\n",
    "    first_nonzero_column_index = np.nonzero(np.any(label_array != 0, axis=0))[0][0]\n",
    "    last_nonzero_column_index = np.max(np.nonzero(np.any(label_array != 0, axis=0)))\n",
    "\n",
    "    top_left_corner = (first_nonzero_row_index, first_nonzero_column_index)\n",
    "    bottom_right_corner = (last_nonzero_row_index, last_nonzero_column_index)\n",
    "\n",
    "    # define the bounding box as an array mask\n",
    "    bounding_box_array = label_array.copy()\n",
    "    bounding_box_array[\n",
    "        top_left_corner[0] : bottom_right_corner[0] + 1,\n",
    "        top_left_corner[1] : bottom_right_corner[1] + 1,\n",
    "    ] = 1\n",
    "    # add channel dimension\n",
    "    bounding_box_array = bounding_box_array[None, ...]\n",
    "\n",
    "    # get Image from Array Mask and apply original spacing\n",
    "    bounding_box_image = sitk.GetImageFromArray(bounding_box_array)\n",
    "    bounding_box_image.SetSpacing(original_spacing)\n",
    "    return bounding_box_image"
   ]
  },
  {
   "cell_type": "code",
   "execution_count": null,
   "id": "28505bf7-ea36-470a-bbbb-9590b4769c45",
   "metadata": {
    "tags": []
   },
   "outputs": [],
   "source": [
    "def threshold_based_crop(image):\n",
    "    \"\"\"\n",
    "    Use Otsu's threshold estimator to separate background and foreground. In medical imaging the background is\n",
    "    usually air. Then crop the image using the foreground's axis aligned bounding box.\n",
    "    Args:\n",
    "        image (SimpleITK image): An image where the anatomy and background intensities form a\n",
    "                                 bi-modal distribution\n",
    "                                 (the assumption underlying Otsu's method.)\n",
    "    Return:\n",
    "        Cropped image based on foreground's axis aligned bounding box.\n",
    "    \"\"\"\n",
    "    # Set pixels that are in [min_intensity,otsu_threshold] to inside_value, values above otsu_threshold are\n",
    "    # set to outside_value. The anatomy has higher intensity values than the background, so it is outside.\n",
    "    inside_value = 0\n",
    "    outside_value = 255\n",
    "    label_shape_filter = sitk.LabelShapeStatisticsImageFilter()\n",
    "    label_shape_filter.Execute(sitk.OtsuThreshold(image, inside_value, outside_value))\n",
    "    bounding_box = label_shape_filter.GetBoundingBox(outside_value)\n",
    "    # The bounding box's first \"dim\" entries are the starting index and last \"dim\" entries the size\n",
    "    return sitk.RegionOfInterest(\n",
    "        image,\n",
    "        bounding_box[int(len(bounding_box) / 2) :],\n",
    "        bounding_box[0 : int(len(bounding_box) / 2)],\n",
    "    )"
   ]
  },
  {
   "cell_type": "code",
   "execution_count": null,
   "id": "23d94f9c-3b92-4698-b10e-4c7048134e2d",
   "metadata": {
    "tags": []
   },
   "outputs": [],
   "source": [
    "def mask_and_crop(image, label):\n",
    "    \"\"\"\n",
    "    Performs masking and cropping operations on an image and its label.\n",
    "\n",
    "    Args:\n",
    "        image (SimpleITK.Image): The image to be processed.\n",
    "        label (SimpleITK.Image): The corresponding label image.\n",
    "\n",
    "    Returns:\n",
    "        tuple: A tuple containing two SimpleITK.Image objects.\n",
    "            - cropped_boxed_image: The image after applying bounding box masking and cropping.\n",
    "            - mask: The binary mask corresponding to the label after cropping.\n",
    "\n",
    "    Note:\n",
    "        This function relies on other functions: bounding_box_mask() and threshold_based_crop().\n",
    "    \"\"\"\n",
    "    box_mask = bounding_box_mask(image, label)\n",
    "    boxed_image = sitk.Mask(image, box_mask, maskingValue=0, outsideValue=0)\n",
    "    masked_image = sitk.Mask(image, label, maskingValue=0, outsideValue=0)\n",
    "\n",
    "    cropped_boxed_image = threshold_based_crop(boxed_image)\n",
    "    cropped_masked_image = threshold_based_crop(masked_image)\n",
    "\n",
    "    mask = np.squeeze(sitk.GetArrayFromImage(cropped_masked_image))\n",
    "    mask = np.where(mask > 0, 1, 0)\n",
    "    mask = sitk.GetImageFromArray(mask[None, ...])\n",
    "    return cropped_boxed_image, mask"
   ]
  },
  {
   "cell_type": "markdown",
   "id": "8a93028a-a5d5-4eaf-b34c-d6aed088294e",
   "metadata": {
    "tags": []
   },
   "source": [
    "## Box Masks Large Example usage Step by Step"
   ]
  },
  {
   "cell_type": "code",
   "execution_count": null,
   "id": "7778e7dc-fee9-4420-8759-4852272962ac",
   "metadata": {
    "tags": []
   },
   "outputs": [],
   "source": [
    "# read image and label from path\n",
    "test_image = sitk.ReadImage(\"../test_data/pelvis.nii.gz\")\n",
    "test_label = sitk.ReadImage(\"../test_data/label.nii.gz\")\n",
    "\n",
    "# create bounding box mask\n",
    "box_mask = bounding_box_mask(test_image, test_label)\n",
    "\n",
    "# show original mask and box mask\n",
    "fig, axs = plt.subplots(1, 2, figsize=(10, 20))\n",
    "\n",
    "show_image(test_label, ax=axs[0])\n",
    "show_image(box_mask, ax=axs[1])"
   ]
  },
  {
   "cell_type": "code",
   "execution_count": null,
   "id": "eb21800a-0b13-4d6e-8931-ff86d10aa1a9",
   "metadata": {
    "tags": []
   },
   "outputs": [],
   "source": [
    "# apply masks to the images\n",
    "masked_image = sitk.Mask(test_image, test_label, maskingValue=0, outsideValue=0)\n",
    "boxed_image = sitk.Mask(test_image, box_mask, maskingValue=0, outsideValue=0)\n",
    "\n",
    "fig, axs = plt.subplots(1, 2, figsize=(10, 20))\n",
    "\n",
    "# show image with original mask and box mask applied\n",
    "show_image(masked_image, ax=axs[0])\n",
    "show_image(boxed_image, ax=axs[1])"
   ]
  },
  {
   "cell_type": "code",
   "execution_count": null,
   "id": "db5e7361-6eac-4cc0-b724-7323a929667a",
   "metadata": {
    "tags": []
   },
   "outputs": [],
   "source": [
    "# crop the images to the bounding box\n",
    "cropped_masked_image = threshold_based_crop(masked_image)\n",
    "cropped_boxed_image = threshold_based_crop(boxed_image)\n",
    "\n",
    "fig, axs = plt.subplots(1, 2, figsize=(10, 20))\n",
    "\n",
    "# show images\n",
    "show_image(cropped_masked_image, ax=axs[0])\n",
    "show_image(cropped_boxed_image, ax=axs[1])"
   ]
  },
  {
   "cell_type": "code",
   "execution_count": null,
   "id": "7580700b-9f5e-41ae-8c8c-c90efe767630",
   "metadata": {
    "tags": []
   },
   "outputs": [],
   "source": [
    "# display the mask on top of the new image\n",
    "finished_image, finished_label = mask_and_crop(test_image, test_label)\n",
    "\n",
    "finished_label = np.squeeze(sitk.GetArrayFromImage(finished_label))\n",
    "finished_image = np.squeeze(sitk.GetArrayFromImage(finished_image))\n",
    "\n",
    "plt.imshow(finished_image, cmap=\"gray\")\n",
    "plt.imshow(finished_label, alpha=0.5, cmap=\"jet\")"
   ]
  },
  {
   "cell_type": "markdown",
   "id": "8dc87199-c17f-4cbe-a544-0fefb8f6953f",
   "metadata": {
    "tags": []
   },
   "source": [
    "## Box Masks Large: Process the Dataset"
   ]
  },
  {
   "cell_type": "code",
   "execution_count": null,
   "id": "91855182-77b2-4ad4-b6d4-de3e7df89c0d",
   "metadata": {
    "tags": []
   },
   "outputs": [],
   "source": [
    "# define dataset\n",
    "df = pd.read_csv(\"../data/dataset.csv\")\n",
    "\n",
    "df.head()\n",
    "new_df = df"
   ]
  },
  {
   "cell_type": "code",
   "execution_count": null,
   "id": "67a0e251-c14d-4dd2-9f37-dd37b8b7ed36",
   "metadata": {
    "tags": []
   },
   "outputs": [],
   "source": [
    "# create directory to store the processed images, labels and csv\n",
    "output_dir_im = \"../data/boxed_grayscale_niftis/image\"\n",
    "output_dir_label = \"../data/boxed_grayscale_niftis/label\"\n",
    "\n",
    "csv_output_path = \"../data/boxed_grayscale_niftis/\"\n",
    "\n",
    "os.makedirs(output_dir_im, exist_ok=True)\n",
    "os.makedirs(output_dir_label, exist_ok=True)"
   ]
  },
  {
   "cell_type": "code",
   "execution_count": null,
   "id": "b23ca992-a23a-40d0-a8f2-e14a6e41b915",
   "metadata": {
    "tags": []
   },
   "outputs": [],
   "source": [
    "pbar = tqdm(total=len(df))\n",
    "\n",
    "for index, row in df.iterrows():\n",
    "    image = sitk.ReadImage(row[\"image\"])\n",
    "    label = sitk.ReadImage(row[\"label\"])\n",
    "\n",
    "    file_name_im = remove_suffix(os.path.basename(row[\"image\"]), \".nii.gz\")\n",
    "    file_name_label = remove_suffix(os.path.basename(row[\"label\"]), \".nii.gz\")\n",
    "\n",
    "    destination_im = os.path.join(output_dir_im, file_name_im + \".nii.gz\")\n",
    "    destination_label = os.path.join(output_dir_label, file_name_label + \".nii.gz\")\n",
    "\n",
    "    finished_image, finished_label = mask_and_crop(image, label)\n",
    "\n",
    "    new_df.loc[index, \"image\"] = destination_im\n",
    "    new_df.loc[index, \"label\"] = destination_label\n",
    "\n",
    "    sitk.WriteImage(finished_image, destination_im)\n",
    "    sitk.WriteImage(finished_label, destination_label)\n",
    "\n",
    "    pbar.update(1)\n",
    "\n",
    "new_df.to_csv(os.path.join(csv_output_path, \"dataset.csv\"), index=False)\n",
    "pbar.close()"
   ]
  }
 ],
 "metadata": {
  "kernelspec": {
   "display_name": "Python 3 (ipykernel)",
   "language": "python",
   "name": "python3"
  },
  "language_info": {
   "codemirror_mode": {
    "name": "ipython",
    "version": 3
   },
   "file_extension": ".py",
   "mimetype": "text/x-python",
   "name": "python",
   "nbconvert_exporter": "python",
   "pygments_lexer": "ipython3",
   "version": "3.8.13"
  }
 },
 "nbformat": 4,
 "nbformat_minor": 5
}
